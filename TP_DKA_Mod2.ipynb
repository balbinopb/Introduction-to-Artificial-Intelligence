{
 "cells": [
  {
   "cell_type": "markdown",
   "id": "feb08850-24d5-4963-8bc1-5df54bbeb277",
   "metadata": {},
   "source": [
    "<div align=\"center\">\n",
    "<h1>Tugas Pendahuluan Praktikum Dasar Kecerdasan Artifisial</h1>\n",
    "<h3>Modul 2: Pengenalan Python</h3>\n",
    "</div>"
   ]
  },
  {
   "cell_type": "code",
   "execution_count": null,
   "id": "087f74e2-bb87-421c-8013-e0042d604ec4",
   "metadata": {},
   "outputs": [],
   "source": [
    "Name: Balbino Pedro Baptista\n",
    "SID: 103012350551"
   ]
  },
  {
   "cell_type": "markdown",
   "id": "455d59ff-e45a-4b9d-96f6-c20fa0032bee",
   "metadata": {},
   "source": [
    "### 1. Program Sederhana: Cetak Teks & Operasi Aritmatika"
   ]
  },
  {
   "cell_type": "markdown",
   "id": "4119f05f-607e-46d6-905f-88fdc503b2f0",
   "metadata": {},
   "source": [
    "Buat program yang mencetak teks \"**Halo, Dunia!**\" dan melakukan operasi penjumlahan dua angka."
   ]
  },
  {
   "cell_type": "code",
   "execution_count": 3,
   "id": "da818837-ff33-4083-b1a6-2f46b949cca8",
   "metadata": {},
   "outputs": [
    {
     "name": "stdout",
     "output_type": "stream",
     "text": [
      "Hello, World!\n",
      "Addition result: 15\n"
     ]
    }
   ],
   "source": [
    "print(\"Hello, World!\")\n",
    "\n",
    "a = 10\n",
    "b = 5\n",
    "result = a+b\n",
    "print(\"Addition result:\",result)\n"
   ]
  },
  {
   "cell_type": "markdown",
   "id": "46e1f733-7d5a-4843-b30b-c93713d294c8",
   "metadata": {},
   "source": [
    "### 2. Pengkondisian (if-elif-else)"
   ]
  },
  {
   "cell_type": "markdown",
   "id": "ed57c986-8907-4a75-8be3-ec0b89d9ca4e",
   "metadata": {},
   "source": [
    "Buat program yang meminta pengguna memasukkan angka dan menentukan apakah angka tersebut **positif**, **negatif**, atau **nol**."
   ]
  },
  {
   "cell_type": "code",
   "execution_count": 11,
   "id": "81b3e9ae-a15c-4838-bb5a-d22c6adfb2e2",
   "metadata": {},
   "outputs": [
    {
     "name": "stdin",
     "output_type": "stream",
     "text": [
      " 0\n"
     ]
    },
    {
     "name": "stdout",
     "output_type": "stream",
     "text": [
      "Angka nol\n"
     ]
    }
   ],
   "source": [
    "angka = int(input())\n",
    "\n",
    "if angka>0:\n",
    "    print(\"Angka positif\")\n",
    "elif angka<0:\n",
    "    print(\"Angka negatif\")\n",
    "else:\n",
    "    print(\"Angka nol\")\n"
   ]
  },
  {
   "cell_type": "markdown",
   "id": "62981764-1848-481b-ae18-b9e66a7f4eb9",
   "metadata": {},
   "source": [
    "### 3. Perulangan (for & while)"
   ]
  },
  {
   "cell_type": "markdown",
   "id": "49f97049-6cb3-4c63-b132-20bf8b7c5790",
   "metadata": {},
   "source": [
    "a. Gunakan `for loop` untuk mencetak angka **1 hingga 5**."
   ]
  },
  {
   "cell_type": "code",
   "execution_count": 13,
   "id": "3a474b02-93bc-4bad-bb47-fa3e150f6fc2",
   "metadata": {},
   "outputs": [
    {
     "name": "stdout",
     "output_type": "stream",
     "text": [
      "1\n",
      "2\n",
      "3\n",
      "4\n",
      "5\n",
      "6\n"
     ]
    }
   ],
   "source": [
    "for i in range(1,7):\n",
    "    print(i)"
   ]
  },
  {
   "cell_type": "markdown",
   "id": "38b4987b-7f3b-4340-941e-efc67d69245c",
   "metadata": {},
   "source": [
    "b. Gunakan `while loop` untuk mencetak angka **1 hingga 3**."
   ]
  },
  {
   "cell_type": "code",
   "execution_count": 14,
   "id": "b985b90e-6a69-4360-95a4-abe588a915aa",
   "metadata": {},
   "outputs": [
    {
     "name": "stdout",
     "output_type": "stream",
     "text": [
      "1\n",
      "2\n",
      "3\n"
     ]
    }
   ],
   "source": [
    "x = 1\n",
    "while x<=3:\n",
    "    print(x)\n",
    "    x += 1"
   ]
  },
  {
   "cell_type": "markdown",
   "id": "e00e3033-c798-42af-87b9-9c51c209318d",
   "metadata": {},
   "source": [
    "### 4. List dan Dictionary"
   ]
  },
  {
   "cell_type": "markdown",
   "id": "39a19dd2-a108-4803-9c58-9c085c4cb813",
   "metadata": {},
   "source": [
    "Buat list berisi 5 nama makanan dan **dictionary** berisi daftar harga makanan tersebut. Cetak harga dari salah satu makanan."
   ]
  },
  {
   "cell_type": "code",
   "execution_count": 18,
   "id": "0f9214bf-d185-42fa-a58d-ec3a904966e5",
   "metadata": {},
   "outputs": [],
   "source": [
    "makanan = [\"Nasi Goreng\", \"Mie Ayam\", \"Soto\", \"Bakso\", \"Gado-Gado\"]\n",
    "\n",
    "harga_makanan = {\"Nasi Goreng\": 15000, \"Mie Ayam\": 12000, \"Soto\": 13000, \"Bakso\": 14000, \"Gado-Gado\": 10000}\n"
   ]
  },
  {
   "cell_type": "code",
   "execution_count": 21,
   "id": "8245f7fe-e129-431e-be08-f139c9775a86",
   "metadata": {},
   "outputs": [
    {
     "name": "stdout",
     "output_type": "stream",
     "text": [
      "List Makanan: ['Nasi Goreng', 'Mie Ayam', 'Soto', 'Bakso', 'Gado-Gado']\n",
      "Harga Bakso: 14000\n"
     ]
    }
   ],
   "source": [
    "print(\"List Makanan:\", makanan)\n",
    "print(\"Harga Bakso:\", harga_makanan[\"Bakso\"])"
   ]
  },
  {
   "cell_type": "code",
   "execution_count": 20,
   "id": "a9a3b339-d8a9-424a-ac11-6c4e8dd2c325",
   "metadata": {},
   "outputs": [
    {
     "name": "stdout",
     "output_type": "stream",
     "text": [
      "List Makanan: ['Nasi Goreng', 'Mie Ayam', 'Soto', 'Bakso', 'Gado-Gado']\n",
      "Harga Mie Ayam: 12000\n"
     ]
    }
   ],
   "source": [
    "print(\"List Makanan:\", makanan)\n",
    "print(\"Harga Mie Ayam:\", harga_makanan[\"Mie Ayam\"])"
   ]
  },
  {
   "cell_type": "markdown",
   "id": "7950102e-f862-42b2-b5b6-f85d70b74ba9",
   "metadata": {},
   "source": [
    "### 5. Fungsi: Menghitung Diskon Harga"
   ]
  },
  {
   "cell_type": "markdown",
   "id": "4f4749dd-a95b-4521-afb6-5d214a9700d3",
   "metadata": {},
   "source": [
    "Buat fungsi yang menerima **harga barang** dan **persentase diskon**, lalu mengembalikan harga setelah diskon."
   ]
  },
  {
   "cell_type": "code",
   "execution_count": 26,
   "id": "0813ec50-7e6c-45af-9026-d91b209ccb50",
   "metadata": {},
   "outputs": [
    {
     "name": "stdin",
     "output_type": "stream",
     "text": [
      " 20\n",
      " 100000\n"
     ]
    },
    {
     "name": "stdout",
     "output_type": "stream",
     "text": [
      "80000\n"
     ]
    }
   ],
   "source": [
    "def hitung_diskon(harga, diskon):\n",
    "    return int(harga - (harga * diskon / 100))\n",
    "\n",
    "diskon = int(input())\n",
    "harga_barang = int(input())\n",
    "\n",
    "harga_setelah_diskon = hitung_diskon(harga_barang,diskon)\n",
    "print(harga_setelah_diskon)\n"
   ]
  }
 ],
 "metadata": {
  "kernelspec": {
   "display_name": "Python 3 (ipykernel)",
   "language": "python",
   "name": "python3"
  },
  "language_info": {
   "codemirror_mode": {
    "name": "ipython",
    "version": 3
   },
   "file_extension": ".py",
   "mimetype": "text/x-python",
   "name": "python",
   "nbconvert_exporter": "python",
   "pygments_lexer": "ipython3",
   "version": "3.12.7"
  }
 },
 "nbformat": 4,
 "nbformat_minor": 5
}
